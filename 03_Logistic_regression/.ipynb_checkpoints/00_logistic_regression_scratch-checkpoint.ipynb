{
 "cells": [
  {
   "cell_type": "code",
   "execution_count": 1,
   "metadata": {
    "collapsed": true
   },
   "outputs": [],
   "source": [
    "import numpy as np\n",
    "import matplotlib\n",
    "import matplotlib.pyplot as plt\n",
    "%matplotlib inline"
   ]
  },
  {
   "cell_type": "markdown",
   "metadata": {},
   "source": [
    "## 0. Making the artificial data"
   ]
  },
  {
   "cell_type": "code",
   "execution_count": 2,
   "metadata": {
    "collapsed": true
   },
   "outputs": [],
   "source": [
    "from sklearn.datasets import make_blobs"
   ]
  },
  {
   "cell_type": "code",
   "execution_count": 3,
   "metadata": {
    "collapsed": true
   },
   "outputs": [],
   "source": [
    "np.random.seed(1234)"
   ]
  },
  {
   "cell_type": "code",
   "execution_count": 4,
   "metadata": {
    "collapsed": true
   },
   "outputs": [],
   "source": [
    "n_dim = 2\n",
    "x_train, y_train = make_blobs(n_samples=100, n_features=n_dim, centers=[[1,1],[-1,-1]], shuffle=True)\n",
    "x_test, y_test = make_blobs(n_samples=30, n_features=n_dim, centers=[[1,1],[-1,-1]], shuffle=True)"
   ]
  },
  {
   "cell_type": "code",
   "execution_count": 5,
   "metadata": {},
   "outputs": [
    {
     "name": "stdout",
     "output_type": "stream",
     "text": [
      "[[-3.08526564  0.93024677]\n",
      " [ 1.40545341  1.28909194]\n",
      " [ 1.35402033  0.96448697]\n",
      " [ 1.01569637 -1.24268495]\n",
      " [-2.47311641 -1.89658062]\n",
      " [-0.37122417 -0.81350565]\n",
      " [-1.78110528 -1.46801767]\n",
      " [-1.4507651  -0.25083619]\n",
      " [-0.18387277  0.89353447]\n",
      " [-0.06898878  0.48811869]]\n",
      "[1 0 0 0 1 1 1 1 1 0]\n"
     ]
    }
   ],
   "source": [
    "print(x_train[:10,:])\n",
    "print(y_train[:10])"
   ]
  },
  {
   "cell_type": "code",
   "execution_count": 6,
   "metadata": {},
   "outputs": [
    {
     "data": {
      "text/plain": [
       "<matplotlib.collections.PathCollection at 0x110ac7eb8>"
      ]
     },
     "execution_count": 6,
     "metadata": {},
     "output_type": "execute_result"
    },
    {
     "data": {
      "image/png": "[encoded data removed]",
      "text/plain": [
       "<matplotlib.figure.Figure at 0x10d722c18>"
      ]
     },
     "metadata": {},
     "output_type": "display_data"
    }
   ],
   "source": [
    "# Training data\n",
    "plt.figure()\n",
    "plt.scatter(x_train[(y_train==0),0], x_train[(y_train==0),1], c='blue', marker='o')\n",
    "plt.scatter(x_train[(y_train==1),0], x_train[(y_train==1),1], c='red', marker='o')"
   ]
  },
  {
   "cell_type": "code",
   "execution_count": 7,
   "metadata": {},
   "outputs": [
    {
     "data": {
      "text/plain": [
       "<matplotlib.collections.PathCollection at 0x110b45a20>"
      ]
     },
     "execution_count": 7,
     "metadata": {},
     "output_type": "execute_result"
    },
    {
     "data": {
      "image/png": "[encoded data removed]",
      "text/plain": [
       "<matplotlib.figure.Figure at 0x10d722470>"
      ]
     },
     "metadata": {},
     "output_type": "display_data"
    }
   ],
   "source": [
    "# Test data\n",
    "plt.figure()\n",
    "plt.scatter(x_test[(y_test==0),0], x_test[(y_test==0),1], c='blue', marker='+')\n",
    "plt.scatter(x_test[(y_test==1),0], x_test[(y_test==1),1], c='red', marker='+')"
   ]
  },
  {
   "cell_type": "code",
   "execution_count": 8,
   "metadata": {},
   "outputs": [
    {
     "data": {
      "text/plain": [
       "<matplotlib.collections.PathCollection at 0x110c5ee80>"
      ]
     },
     "execution_count": 8,
     "metadata": {},
     "output_type": "execute_result"
    },
    {
     "data": {
      "image/png": "[encoded data removed]",
      "text/plain": [
       "<matplotlib.figure.Figure at 0x110cb7f60>"
      ]
     },
     "metadata": {},
     "output_type": "display_data"
    }
   ],
   "source": [
    "# Training data + Test data\n",
    "plt.figure()\n",
    "plt.scatter(x_train[(y_train==0),0], x_train[(y_train==0),1], c='blue', marker='o')\n",
    "plt.scatter(x_train[(y_train==1),0], x_train[(y_train==1),1], c='red', marker='o')\n",
    "plt.scatter(x_test[(y_test==0),0], x_test[(y_test==0),1], c='blue', marker='+')\n",
    "plt.scatter(x_test[(y_test==1),0], x_test[(y_test==1),1], c='red', marker='+')"
   ]
  },
  {
   "cell_type": "markdown",
   "metadata": {},
   "source": [
    "## 1. Logistic regression"
   ]
  },
  {
   "cell_type": "code",
   "execution_count": 9,
   "metadata": {
    "collapsed": true
   },
   "outputs": [],
   "source": [
    "# Logistic function (a.k.a., softmax function, sigmoid function)\n",
    "def logistic(x):\n",
    "    return 1.0 / (1 + np.exp(-x))"
   ]
  },
  {
   "cell_type": "code",
   "execution_count": 10,
   "metadata": {
    "collapsed": true
   },
   "outputs": [],
   "source": [
    "def logit(x, beta):\n",
    "    logit = np.dot(x, beta)\n",
    "    return logit"
   ]
  },
  {
   "cell_type": "code",
   "execution_count": 11,
   "metadata": {},
   "outputs": [
    {
     "name": "stdout",
     "output_type": "stream",
     "text": [
      "[ 0.40093969  0.502909    0.5097371   0.55622078  0.4855906   0.51105523\n",
      "  0.49217345  0.47003772  0.47309084  0.48607591]\n",
      "[1 0 0 0 1 1 1 1 1 0]\n"
     ]
    }
   ],
   "source": [
    "beta = [0.1, -0.1]\n",
    "y_hat = logistic(logit(x=x_train, beta=beta)) # Y = 1일 확률\n",
    "print(y_hat[:10])\n",
    "print(y_train[:10])"
   ]
  },
  {
   "cell_type": "code",
   "execution_count": 12,
   "metadata": {
    "collapsed": true
   },
   "outputs": [],
   "source": [
    "def negative_log_likelihood(x, y, beta, avg=False):\n",
    "    y_hat = logistic(logit(x=x_train, beta=beta))\n",
    "    log_likelihood = y * np.log(y_hat) + (1 - y) * np.log(1 - y_hat)\n",
    "    if not avg:\n",
    "        return -log_likelihood\n",
    "    else:\n",
    "        return np.mean(-log_likelihood)"
   ]
  },
  {
   "cell_type": "code",
   "execution_count": 13,
   "metadata": {
    "scrolled": false
   },
   "outputs": [
    {
     "name": "stdout",
     "output_type": "stream",
     "text": [
      "[ 0.91394425  0.69898218  0.71281351  0.8124281   0.7223894   0.6712776\n",
      "  0.70892409  0.75494233  0.74846785  0.66567972  0.75605519  0.77074811\n",
      "  0.64535098  0.65383749  0.57569066  0.67647867  0.68874046  0.84679756\n",
      "  0.63866006  0.59085049  0.69423565  0.85124149  0.67530831  0.75203237\n",
      "  0.87953064  0.7022032   0.82523673  0.81401086  0.69493173  0.70828261\n",
      "  0.71423112  0.61170278  0.67316966  0.6923738   0.72320923  0.68542304\n",
      "  0.6932292   0.75066904  0.72579561  0.80346862  0.6751765   0.63116504\n",
      "  0.65705893  0.78665339  0.66379138  0.70108291  0.61929797  0.71930395\n",
      "  0.77971827  0.67821442  0.67441024  0.73807277  0.71068698  0.56628199\n",
      "  0.61851314  0.74365191  0.72378566  0.59807502  0.6329705   0.64897353\n",
      "  0.80426387  0.74704017  0.91468706  0.82552243  0.68232878  0.66953302\n",
      "  0.70222402  0.71742527  0.70700835  0.71577288  0.85289574  0.68229194\n",
      "  0.78421815  0.6748539   0.78650847  0.7074115   0.7205191   0.71607019\n",
      "  0.63020887  0.75327663  0.74890245  0.6688089   0.63601626  0.5571651\n",
      "  0.57597642  0.84476296  0.61626733  0.76450557  0.86434324  0.62839393\n",
      "  0.63271648  0.6159872   0.64386053  0.73396374  0.65044695  0.72332035\n",
      "  0.73908311  0.61868025  0.57217492  0.671236  ]\n"
     ]
    }
   ],
   "source": [
    "loss = negative_log_likelihood(x=x_train, y=y_train, beta=beta)\n",
    "print(loss)"
   ]
  },
  {
   "cell_type": "markdown",
   "metadata": {},
   "source": [
    "## 2. Learning logistic regression model\n",
    "- Using batch gradient descent method"
   ]
  },
  {
   "cell_type": "code",
   "execution_count": 16,
   "metadata": {
    "collapsed": true
   },
   "outputs": [],
   "source": [
    "def logistic_regression(x, y, num_steps=50, learning_rate=0.01):\n",
    "    initial_beta = [10, 10]\n",
    "    beta = initial_beta\n",
    "    for step in range(num_steps):\n",
    "        y_hat = logistic(logit(x=x_train, beta=beta))\n",
    "        gradient = np.dot(x.T, y_hat - y)\n",
    "        beta = beta - learning_rate * gradient\n",
    "        loss = negative_log_likelihood(x, y, beta, avg=True)\n",
    "        print('[%d steps] loss %g' % (step, loss))\n",
    "#         print('[%d steps] loss %g  / beta_0 = %.2f, beta_1 = %.2f, gradient = %.4f' % (step, loss, beta[0], beta[1], gradient))\n",
    "    return beta, initial_beta"
   ]
  },
  {
   "cell_type": "code",
   "execution_count": 26,
   "metadata": {
    "scrolled": true
   },
   "outputs": [
    {
     "name": "stdout",
     "output_type": "stream",
     "text": [
      "[0 steps] loss inf\n",
      "[1 steps] loss inf\n",
      "[2 steps] loss 14.4212\n",
      "[3 steps] loss 12.1915\n",
      "[4 steps] loss 9.96513\n",
      "[5 steps] loss 7.74704\n",
      "[6 steps] loss 5.54828\n",
      "[7 steps] loss 3.40793\n",
      "[8 steps] loss 1.51228\n",
      "[9 steps] loss 0.488308\n",
      "[10 steps] loss 0.292321\n",
      "[11 steps] loss 0.231628\n",
      "[12 steps] loss 0.200996\n",
      "[13 steps] loss 0.182153\n",
      "[14 steps] loss 0.169214\n",
      "[15 steps] loss 0.159682\n",
      "[16 steps] loss 0.152306\n",
      "[17 steps] loss 0.146389\n",
      "[18 steps] loss 0.141512\n",
      "[19 steps] loss 0.137403\n",
      "[20 steps] loss 0.133882\n",
      "[21 steps] loss 0.13082\n",
      "[22 steps] loss 0.128128\n",
      "[23 steps] loss 0.125736\n",
      "[24 steps] loss 0.123593\n",
      "[25 steps] loss 0.121659\n",
      "[26 steps] loss 0.119902\n",
      "[27 steps] loss 0.118298\n",
      "[28 steps] loss 0.116826\n",
      "[29 steps] loss 0.115469\n",
      "[30 steps] loss 0.114214\n",
      "[31 steps] loss 0.113048\n",
      "[32 steps] loss 0.111963\n",
      "[33 steps] loss 0.110949\n",
      "[34 steps] loss 0.109999\n",
      "[35 steps] loss 0.109107\n",
      "[36 steps] loss 0.108268\n",
      "[37 steps] loss 0.107477\n",
      "[38 steps] loss 0.10673\n",
      "[39 steps] loss 0.106023\n",
      "[40 steps] loss 0.105353\n",
      "[41 steps] loss 0.104717\n",
      "[42 steps] loss 0.104112\n",
      "[43 steps] loss 0.103537\n",
      "[44 steps] loss 0.102989\n",
      "[45 steps] loss 0.102465\n",
      "[46 steps] loss 0.101965\n",
      "[47 steps] loss 0.101487\n",
      "[48 steps] loss 0.10103\n",
      "[49 steps] loss 0.100592\n",
      "[50 steps] loss 0.100171\n",
      "[51 steps] loss 0.0997679\n",
      "[52 steps] loss 0.0993803\n",
      "[53 steps] loss 0.0990078\n",
      "[54 steps] loss 0.0986494\n",
      "[55 steps] loss 0.0983043\n",
      "[56 steps] loss 0.0979719\n",
      "[57 steps] loss 0.0976514\n",
      "[58 steps] loss 0.0973422\n",
      "[59 steps] loss 0.0970438\n",
      "[60 steps] loss 0.0967556\n",
      "[61 steps] loss 0.0964771\n",
      "[62 steps] loss 0.0962078\n",
      "[63 steps] loss 0.0959473\n",
      "[64 steps] loss 0.0956952\n",
      "[65 steps] loss 0.0954511\n",
      "[66 steps] loss 0.0952146\n",
      "[67 steps] loss 0.0949854\n",
      "[68 steps] loss 0.0947631\n",
      "[69 steps] loss 0.0945475\n",
      "[70 steps] loss 0.0943383\n",
      "[71 steps] loss 0.0941352\n",
      "[72 steps] loss 0.0939379\n",
      "[73 steps] loss 0.0937462\n",
      "[74 steps] loss 0.09356\n",
      "[75 steps] loss 0.0933789\n",
      "[76 steps] loss 0.0932027\n",
      "[77 steps] loss 0.0930313\n",
      "[78 steps] loss 0.0928646\n",
      "[79 steps] loss 0.0927022\n",
      "[80 steps] loss 0.0925441\n",
      "[81 steps] loss 0.0923901\n",
      "[82 steps] loss 0.09224\n",
      "[83 steps] loss 0.0920937\n",
      "[84 steps] loss 0.0919511\n",
      "[85 steps] loss 0.0918121\n",
      "[86 steps] loss 0.0916764\n",
      "[87 steps] loss 0.0915441\n",
      "[88 steps] loss 0.0914149\n",
      "[89 steps] loss 0.0912889\n",
      "[90 steps] loss 0.0911658\n",
      "[91 steps] loss 0.0910455\n",
      "[92 steps] loss 0.0909281\n",
      "[93 steps] loss 0.0908134\n",
      "[94 steps] loss 0.0907012\n",
      "[95 steps] loss 0.0905916\n",
      "[96 steps] loss 0.0904845\n",
      "[97 steps] loss 0.0903797\n",
      "[98 steps] loss 0.0902772\n",
      "[99 steps] loss 0.090177\n"
     ]
    },
    {
     "name": "stderr",
     "output_type": "stream",
     "text": [
      "/Users/kth/anaconda3/envs/ml_edu/lib/python3.5/site-packages/ipykernel_launcher.py:3: RuntimeWarning: divide by zero encountered in log\n",
      "  This is separate from the ipykernel package so we can avoid doing imports until\n"
     ]
    }
   ],
   "source": [
    "beta, initial_beta = logistic_regression(x=x_train, y=y_train, num_steps=100, learning_rate=0.01)"
   ]
  },
  {
   "cell_type": "code",
   "execution_count": 27,
   "metadata": {
    "scrolled": true
   },
   "outputs": [
    {
     "name": "stdout",
     "output_type": "stream",
     "text": [
      "[10, 10]\n",
      "[-3.32776622 -1.75723962]\n"
     ]
    }
   ],
   "source": [
    "print(initial_beta)\n",
    "print(beta)"
   ]
  },
  {
   "cell_type": "code",
   "execution_count": 28,
   "metadata": {
    "collapsed": true
   },
   "outputs": [],
   "source": [
    "# Comes from Kyunghyun Cho's ML lecture (https://github.com/nyu-dl/Intro_to_ML_Lecture_Note)\n",
    "def vis_hyperplane(beta, style='k--'):\n",
    "\n",
    "    lim0 = plt.gca().get_xlim()\n",
    "    lim1 = plt.gca().get_ylim()\n",
    "    m0, m1 = lim0[0], lim0[1]\n",
    "\n",
    "    intercept0 = -(beta[0] * m0 + beta[-1])/beta[1]\n",
    "    intercept1 = -(beta[0] * m1 + beta[-1])/beta[1]\n",
    "    \n",
    "    plt1, = plt.plot([m0, m1], [intercept0, intercept1], style)\n",
    "\n",
    "    plt.gca().set_xlim(lim0)\n",
    "    plt.gca().set_ylim(lim1)\n",
    "        \n",
    "    return plt1"
   ]
  },
  {
   "cell_type": "code",
   "execution_count": 29,
   "metadata": {},
   "outputs": [
    {
     "data": {
      "text/plain": [
       "<matplotlib.legend.Legend at 0x110e94a20>"
      ]
     },
     "execution_count": 29,
     "metadata": {},
     "output_type": "execute_result"
    },
    {
     "data": {
      "image/png": "[encoded data removed]",
      "text/plain": [
       "<matplotlib.figure.Figure at 0x110ce3780>"
      ]
     },
     "metadata": {},
     "output_type": "display_data"
    }
   ],
   "source": [
    "# Training data + Hyperplane\n",
    "plt.figure()\n",
    "plt.scatter(x_train[(y_train==0),0], x_train[(y_train==0),1], c='blue', marker='o')\n",
    "plt.scatter(x_train[(y_train==1),0], x_train[(y_train==1),1], c='red', marker='o')\n",
    "\n",
    "initial_beta_plot = vis_hyperplane(initial_beta, 'k--')\n",
    "beta_plot = vis_hyperplane(beta, 'g--')\n",
    "\n",
    "plt.legend([initial_beta_plot, beta_plot], ['Randomly initialized beta', 'Learned beta'])"
   ]
  },
  {
   "cell_type": "code",
   "execution_count": 30,
   "metadata": {},
   "outputs": [
    {
     "data": {
      "text/plain": [
       "<matplotlib.legend.Legend at 0x110f149b0>"
      ]
     },
     "execution_count": 30,
     "metadata": {},
     "output_type": "execute_result"
    },
    {
     "data": {
      "image/png": "[encoded data removed]",
      "text/plain": [
       "<matplotlib.figure.Figure at 0x10d722400>"
      ]
     },
     "metadata": {},
     "output_type": "display_data"
    }
   ],
   "source": [
    "# Test data + Hyperplane\n",
    "plt.figure()\n",
    "plt.scatter(x_test[(y_test==0),0], x_test[(y_test==0),1], c='blue', marker='+')\n",
    "plt.scatter(x_test[(y_test==1),0], x_test[(y_test==1),1], c='red', marker='+')\n",
    "\n",
    "initial_beta_plot = vis_hyperplane(initial_beta, 'k--')\n",
    "beta_plot = vis_hyperplane(beta, 'g--')\n",
    "\n",
    "plt.legend([initial_beta_plot, beta_plot], ['Randomly initialized beta', 'Learned beta'])"
   ]
  },
  {
   "cell_type": "code",
   "execution_count": 32,
   "metadata": {},
   "outputs": [
    {
     "data": {
      "text/plain": [
       "<matplotlib.legend.Legend at 0x111133ac8>"
      ]
     },
     "execution_count": 32,
     "metadata": {},
     "output_type": "execute_result"
    },
    {
     "data": {
      "image/png": "[encoded data removed]",
      "text/plain": [
       "<matplotlib.figure.Figure at 0x1110f06d8>"
      ]
     },
     "metadata": {},
     "output_type": "display_data"
    }
   ],
   "source": [
    "# Training data + Test data\n",
    "plt.figure()\n",
    "plt.scatter(x_train[(y_train==0),0], x_train[(y_train==0),1], c='blue', marker='o', alpha=0.1)\n",
    "plt.scatter(x_train[(y_train==1),0], x_train[(y_train==1),1], c='red', marker='o', alpha=0.1)\n",
    "plt.scatter(x_test[(y_test==0),0], x_test[(y_test==0),1], c='blue', marker='+')\n",
    "plt.scatter(x_test[(y_test==1),0], x_test[(y_test==1),1], c='red', marker='+')\n",
    "\n",
    "initial_beta_plot = vis_hyperplane(initial_beta, 'k--')\n",
    "beta_plot = vis_hyperplane(beta, 'g--')\n",
    "\n",
    "plt.legend([initial_beta_plot, beta_plot], ['Randomly initialized beta', 'Learned beta'])"
   ]
  },
  {
   "cell_type": "code",
   "execution_count": null,
   "metadata": {
    "collapsed": true
   },
   "outputs": [],
   "source": []
  }
 ],
 "metadata": {
  "anaconda-cloud": {},
  "kernelspec": {
   "display_name": "Python 3",
   "language": "python",
   "name": "python3"
  },
  "language_info": {
   "codemirror_mode": {
    "name": "ipython",
    "version": 3
   },
   "file_extension": ".py",
   "mimetype": "text/x-python",
   "name": "python",
   "nbconvert_exporter": "python",
   "pygments_lexer": "ipython3",
   "version": "3.5.3"
  }
 },
 "nbformat": 4,
 "nbformat_minor": 2
}
